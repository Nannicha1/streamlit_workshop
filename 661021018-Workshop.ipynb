{
 "cells": [
  {
   "cell_type": "code",
   "execution_count": 1,
   "id": "58c9d526-fb33-4edf-b8b5-2e35921469c7",
   "metadata": {},
   "outputs": [
    {
     "name": "stdout",
     "output_type": "stream",
     "text": [
      "Loaded 50 apple images\n",
      "Loaded 49 orange images\n"
     ]
    }
   ],
   "source": [
    "import os\n",
    "import cv2\n",
    "import numpy as np\n",
    "\n",
    "base_dir = r\"C:\\Users\\Computer_BSc\\Downloads\\dataset\\dataset\"\n",
    "\n",
    "def load_images_from_folder(folder):\n",
    "    images = []\n",
    "    for filename in os.listdir(folder):\n",
    "        img = cv2.imread(os.path.join(folder, filename))\n",
    "        if img is not None:\n",
    "            images.append(img)\n",
    "    return images\n",
    "\n",
    "base_dir = r\"C:\\Users\\Computer_BSc\\Downloads\\dataset\\dataset\"\n",
    "apple_images = load_images_from_folder(os.path.join(base_dir, \"apple\"))\n",
    "orange_images = load_images_from_folder(os.path.join(base_dir, \"orange\"))\n",
    "\n",
    "print(f\"Loaded {len(apple_images)} apple images\")\n",
    "print(f\"Loaded {len(orange_images)} orange images\")"
   ]
  },
  {
   "cell_type": "code",
   "execution_count": 2,
   "id": "a9eef12f-1f1c-4f00-99a5-1fd22032c7af",
   "metadata": {},
   "outputs": [],
   "source": [
    "# You might want to resize or preprocess these images later\n",
    "# Example: resize to a common size (e.g., 100x100)\n",
    "resized_apple_images = [cv2.resize(img, (100, 100)) for img in apple_images]\n",
    "resized_orange_images = [cv2.resize(img, (100, 100)) for img in orange_images]"
   ]
  },
  {
   "cell_type": "code",
   "execution_count": 3,
   "id": "91d165e1-5721-4d18-8d49-5090db1e85be",
   "metadata": {},
   "outputs": [
    {
     "name": "stdout",
     "output_type": "stream",
     "text": [
      "Flattened apple features shape (first image): (30000,)\n",
      "Flattened orange features shape (first image): (30000,)\n"
     ]
    }
   ],
   "source": [
    "# Flatten the resized images into feature vectors\n",
    "apple_features = [img.flatten() for img in resized_apple_images]\n",
    "orange_features = [img.flatten() for img in resized_orange_images]\n",
    "\n",
    "print(f\"Flattened apple features shape (first image): {apple_features[0].shape}\")\n",
    "print(f\"Flattened orange features shape (first image): {orange_features[0].shape}\")"
   ]
  },
  {
   "cell_type": "code",
   "execution_count": 4,
   "id": "2a726417-d6fe-4758-a6ac-b87f18e9139f",
   "metadata": {},
   "outputs": [
    {
     "name": "stdout",
     "output_type": "stream",
     "text": [
      "Training features shape: (79, 30000)\n",
      "Testing features shape: (20, 30000)\n",
      "Training labels shape: (79,)\n",
      "Testing labels shape: (20,)\n"
     ]
    }
   ],
   "source": [
    "from sklearn.model_selection import train_test_split\n",
    "\n",
    "# Create labels: 0 for apple, 1 for orange\n",
    "apple_labels = [0] * len(apple_features)\n",
    "orange_labels = [1] * len(orange_features)\n",
    "\n",
    "# Combine features and labels\n",
    "all_features = apple_features + orange_features\n",
    "all_labels = apple_labels + orange_labels\n",
    "\n",
    "# Convert to numpy arrays\n",
    "X = np.array(all_features)\n",
    "y = np.array(all_labels)\n",
    "\n",
    "# Split data into training and testing sets\n",
    "X_train, X_test, y_train, y_test = train_test_split(X, y, test_size=0.2, random_state=42)\n",
    "\n",
    "print(f\"Training features shape: {X_train.shape}\")\n",
    "print(f\"Testing features shape: {X_test.shape}\")\n",
    "print(f\"Training labels shape: {y_train.shape}\")\n",
    "print(f\"Testing labels shape: {y_test.shape}\")"
   ]
  },
  {
   "cell_type": "code",
   "execution_count": 5,
   "id": "561d0cb4-6bf0-49c5-be69-158ca92ba37e",
   "metadata": {},
   "outputs": [
    {
     "name": "stdout",
     "output_type": "stream",
     "text": [
      "Accuracy: 0.90\n",
      "\n",
      "Classification Report:\n",
      "              precision    recall  f1-score   support\n",
      "\n",
      "           0       0.92      0.92      0.92        12\n",
      "           1       0.88      0.88      0.88         8\n",
      "\n",
      "    accuracy                           0.90        20\n",
      "   macro avg       0.90      0.90      0.90        20\n",
      "weighted avg       0.90      0.90      0.90        20\n",
      "\n"
     ]
    }
   ],
   "source": [
    "from sklearn import svm\n",
    "from sklearn.metrics import accuracy_score, classification_report\n",
    "\n",
    "# Initialize and train the SVM classifier\n",
    "svm_model = svm.SVC(kernel='linear')\n",
    "svm_model.fit(X_train, y_train)\n",
    "\n",
    "# Predict on the test set\n",
    "y_pred = svm_model.predict(X_test)\n",
    "\n",
    "# Evaluate the model\n",
    "accuracy = accuracy_score(y_test, y_pred)\n",
    "print(f\"Accuracy: {accuracy:.2f}\")\n",
    "\n",
    "print(\"\\nClassification Report:\")\n",
    "print(classification_report(y_test, y_pred))"
   ]
  },
  {
   "cell_type": "code",
   "execution_count": 6,
   "id": "58078ff5-6508-4e7d-bb9f-d0b450bcd656",
   "metadata": {},
   "outputs": [
    {
     "name": "stdout",
     "output_type": "stream",
     "text": [
      "Model saved to svm_image_classifier_model.pkl\n"
     ]
    }
   ],
   "source": [
    "import joblib\n",
    "\n",
    "# Save the trained model to a file\n",
    "filename = 'svm_image_classifier_model.pkl'\n",
    "joblib.dump(svm_model, filename)\n",
    "\n",
    "print(f\"Model saved to {filename}\")"
   ]
  },
  {
   "cell_type": "code",
   "execution_count": 17,
   "id": "a08d1bbc-4850-46df-8ad7-2de281529a60",
   "metadata": {},
   "outputs": [
    {
     "name": "stdout",
     "output_type": "stream",
     "text": [
      "Overwriting app.py\n"
     ]
    }
   ],
   "source": [
    "%%writefile app.py\n",
    "\n",
    "import streamlit as st\n",
    "import joblib\n",
    "import pickle\n",
    "from PIL import Image\n",
    "import numpy as np\n",
    "\n",
    "\n",
    "# ---  ---\n",
    "with open(\"svm_image_classifier_model.pkl\", \"rb\") as f:\n",
    "    model = joblib.load(f)\n",
    "\n",
    "# --- UI ---\n",
    "st.title(\"Fruit Classifier\")\n",
    "st.write(\" \")\n",
    "\n",
    "uploaded_file = st.file_uploader(\"Choose an image...\", type=[\"jpg\", \"png\", \"jpeg\"])\n",
    "class_dict = {0: \"Orange\", 1: \"Apple\"} \n",
    "if uploaded_file is not None:\n",
    "    # \n",
    "    image = Image.open(uploaded_file)\n",
    "    st.image(image, caption='Uploaded Image', use_container_width=True)\n",
    "\n",
    "    # --- ---\n",
    "    # \n",
    "    image = image.resize((100, 100))\n",
    "    image_array = np.array(image)\n",
    "    # \n",
    "    image_array = image_array.flatten().reshape(1, -1)\n",
    "    # --- ---\n",
    "    prediction = model.predict(image_array)[0]\n",
    "    # Get prediction name\n",
    "    prediction_name = class_dict[prediction]\n",
    "    st.write(f\"Prediction: **{prediction_name}**\")\n"
   ]
  },
  {
   "cell_type": "code",
   "execution_count": null,
   "id": "950c8590-f37c-4b43-888c-1b171c62ffa7",
   "metadata": {},
   "outputs": [],
   "source": []
  }
 ],
 "metadata": {
  "kernelspec": {
   "display_name": "Python (362-env)",
   "language": "python",
   "name": "362-env"
  },
  "language_info": {
   "codemirror_mode": {
    "name": "ipython",
    "version": 3
   },
   "file_extension": ".py",
   "mimetype": "text/x-python",
   "name": "python",
   "nbconvert_exporter": "python",
   "pygments_lexer": "ipython3",
   "version": "3.13.7"
  }
 },
 "nbformat": 4,
 "nbformat_minor": 5
}
